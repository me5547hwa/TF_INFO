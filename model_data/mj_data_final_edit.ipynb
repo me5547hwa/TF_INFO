{
 "cells": [
  {
   "cell_type": "code",
   "execution_count": 1,
   "metadata": {},
   "outputs": [],
   "source": [
    "import pandas as pd \n",
    "import matplotlib.pyplot as plt\n",
    "import seaborn as sns\n",
    "import numpy as np"
   ]
  },
  {
   "cell_type": "code",
   "execution_count": 2,
   "metadata": {},
   "outputs": [
    {
     "name": "stderr",
     "output_type": "stream",
     "text": [
      "C:\\Users\\tsako0503\\Anaconda3\\lib\\site-packages\\numpy\\lib\\arraysetops.py:569: FutureWarning: elementwise comparison failed; returning scalar instead, but in the future will perform elementwise comparison\n",
      "  mask |= (ar1 == a)\n"
     ]
    }
   ],
   "source": [
    "file_path='G:/我的雲端硬碟/轉譯醫學/Data/MJ/mjdb_full.db_data.csv'\n",
    "df=pd.read_csv(file_path,index_col=0)"
   ]
  },
  {
   "cell_type": "markdown",
   "metadata": {},
   "source": [
    "### Raw data (1448034, 489)"
   ]
  },
  {
   "cell_type": "code",
   "execution_count": 5,
   "metadata": {},
   "outputs": [
    {
     "data": {
      "text/plain": [
       "(1448034, 489)"
      ]
     },
     "execution_count": 5,
     "metadata": {},
     "output_type": "execute_result"
    }
   ],
   "source": [
    "df.shape"
   ]
  },
  {
   "cell_type": "markdown",
   "metadata": {},
   "source": [
    "### 分析欄位####\n",
    "gender <br>\n",
    "age <br>\n",
    "g_bmi <br>\n",
    "mdrug07 (高血脂)<br>\n",
    "g_ssr (右手血壓) <br>\n",
    "smokeornot_03 (抽菸)空值太多去除<br>\n",
    "drinkornot_98 (喝酒)<br>\n",
    "psick10 (糖尿病)"
   ]
  },
  {
   "cell_type": "code",
   "execution_count": 3,
   "metadata": {},
   "outputs": [],
   "source": [
    "select_col='''\n",
    "yr\n",
    "pid\n",
    "psick11\n",
    "gender\n",
    "age\n",
    "g_ssr\n",
    "g_bmi\n",
    "mdrug07\n",
    "drinkornot_98\n",
    "psick10\n",
    "'''\n",
    "\n",
    "select_col_l=select_col.split()"
   ]
  },
  {
   "cell_type": "markdown",
   "metadata": {},
   "source": [
    "### Remove repeat heath check for same individual\n",
    "### Data (615353, 10)"
   ]
  },
  {
   "cell_type": "code",
   "execution_count": 4,
   "metadata": {},
   "outputs": [
    {
     "name": "stdout",
     "output_type": "stream",
     "text": [
      "(615353, 10)\n"
     ]
    },
    {
     "data": {
      "text/html": [
       "<div>\n",
       "<style scoped>\n",
       "    .dataframe tbody tr th:only-of-type {\n",
       "        vertical-align: middle;\n",
       "    }\n",
       "\n",
       "    .dataframe tbody tr th {\n",
       "        vertical-align: top;\n",
       "    }\n",
       "\n",
       "    .dataframe thead th {\n",
       "        text-align: right;\n",
       "    }\n",
       "</style>\n",
       "<table border=\"1\" class=\"dataframe\">\n",
       "  <thead>\n",
       "    <tr style=\"text-align: right;\">\n",
       "      <th></th>\n",
       "      <th>yr</th>\n",
       "      <th>pid</th>\n",
       "      <th>psick11</th>\n",
       "      <th>gender</th>\n",
       "      <th>age</th>\n",
       "      <th>g_ssr</th>\n",
       "      <th>g_bmi</th>\n",
       "      <th>mdrug07</th>\n",
       "      <th>drinkornot_98</th>\n",
       "      <th>psick10</th>\n",
       "    </tr>\n",
       "  </thead>\n",
       "  <tbody>\n",
       "    <tr>\n",
       "      <th>0</th>\n",
       "      <td>2007</td>\n",
       "      <td>a19k583189</td>\n",
       "      <td>0.0</td>\n",
       "      <td>2</td>\n",
       "      <td>25.0</td>\n",
       "      <td>110.0</td>\n",
       "      <td>20.490217</td>\n",
       "      <td>0.0</td>\n",
       "      <td>1.0</td>\n",
       "      <td>0.0</td>\n",
       "    </tr>\n",
       "    <tr>\n",
       "      <th>1</th>\n",
       "      <td>1998</td>\n",
       "      <td>a19k005666</td>\n",
       "      <td>0.0</td>\n",
       "      <td>1</td>\n",
       "      <td>16.0</td>\n",
       "      <td>112.0</td>\n",
       "      <td>18.794434</td>\n",
       "      <td>0.0</td>\n",
       "      <td>1.0</td>\n",
       "      <td>0.0</td>\n",
       "    </tr>\n",
       "    <tr>\n",
       "      <th>2</th>\n",
       "      <td>2006</td>\n",
       "      <td>a19k143055</td>\n",
       "      <td>0.0</td>\n",
       "      <td>1</td>\n",
       "      <td>50.0</td>\n",
       "      <td>110.0</td>\n",
       "      <td>27.445372</td>\n",
       "      <td>0.0</td>\n",
       "      <td>NaN</td>\n",
       "      <td>0.0</td>\n",
       "    </tr>\n",
       "  </tbody>\n",
       "</table>\n",
       "</div>"
      ],
      "text/plain": [
       "     yr         pid  psick11  gender   age  g_ssr      g_bmi  mdrug07  \\\n",
       "0  2007  a19k583189      0.0       2  25.0  110.0  20.490217      0.0   \n",
       "1  1998  a19k005666      0.0       1  16.0  112.0  18.794434      0.0   \n",
       "2  2006  a19k143055      0.0       1  50.0  110.0  27.445372      0.0   \n",
       "\n",
       "   drinkornot_98  psick10  \n",
       "0            1.0      0.0  \n",
       "1            1.0      0.0  \n",
       "2            NaN      0.0  "
      ]
     },
     "execution_count": 4,
     "metadata": {},
     "output_type": "execute_result"
    }
   ],
   "source": [
    "#刪除重複的人，取最後一次\n",
    "df_last=df[select_col_l].drop_duplicates(subset='pid',keep='last',inplace=False).reset_index(drop=True)\n",
    "print(df_last.shape)\n",
    "df_last.head(3)"
   ]
  },
  {
   "cell_type": "code",
   "execution_count": 5,
   "metadata": {},
   "outputs": [
    {
     "data": {
      "text/plain": [
       "yr                    0\n",
       "pid                   0\n",
       "gender                0\n",
       "age                  71\n",
       "g_bmi              1103\n",
       "psick10            5919\n",
       "psick11            5932\n",
       "mdrug07            9263\n",
       "g_ssr             31015\n",
       "drinkornot_98    136208\n",
       "dtype: int64"
      ]
     },
     "execution_count": 5,
     "metadata": {},
     "output_type": "execute_result"
    }
   ],
   "source": [
    "## 看個欄位空值\n",
    "df_last.isna().sum().sort_values()\n"
   ]
  },
  {
   "cell_type": "markdown",
   "metadata": {},
   "source": [
    "### 'gender' distribution (no missing value)"
   ]
  },
  {
   "cell_type": "code",
   "execution_count": 6,
   "metadata": {
    "scrolled": true
   },
   "outputs": [
    {
     "name": "stdout",
     "output_type": "stream",
     "text": [
      "2    319674\n",
      "1    295679\n",
      "Name: gender, dtype: int64\n"
     ]
    },
    {
     "data": {
      "text/plain": [
       "Text(0.5, 0, 'Gender')"
      ]
     },
     "execution_count": 6,
     "metadata": {},
     "output_type": "execute_result"
    },
    {
     "data": {
      "image/png": "[encoded data removed]",
      "text/plain": [
       "<Figure size 432x288 with 1 Axes>"
      ]
     },
     "metadata": {
      "needs_background": "light"
     },
     "output_type": "display_data"
    }
   ],
   "source": [
    "g_bar_counts=df_last['gender'].value_counts()\n",
    "print(g_bar_counts)\n",
    "plt.bar(g_bar_counts.index,g_bar_counts.values,width=0.5)\n",
    "plt.ylabel(\"Counts\",size=20)\n",
    "plt.xlabel(\"Gender\",size=20)"
   ]
  },
  {
   "cell_type": "markdown",
   "metadata": {},
   "source": [
    "### Handling Missing values\n",
    "\n",
    "#### mean substitution : continuous data (age,sbp,BMI)\n",
    "#### mode substitution: categorical data\n",
    "\n",
    "##### other ways:\n",
    "* One hot encoding(get_dummy)\n",
    "* Missing value for categorical data :\n",
    "    1. mode\n",
    "    2. Multiple imputation\n",
    "    3. 可以透過將沒有含有NaN值的同一個feature裡的值當作training set,用machine learning演算法來預測含有NaN值的test\n",
    "    4. KNN"
   ]
  },
  {
   "cell_type": "code",
   "execution_count": 7,
   "metadata": {},
   "outputs": [
    {
     "name": "stdout",
     "output_type": "stream",
     "text": [
      "41.829164513182576\n",
      "39.0\n"
     ]
    },
    {
     "name": "stderr",
     "output_type": "stream",
     "text": [
      "C:\\Users\\tsako0503\\Anaconda3\\lib\\site-packages\\numpy\\lib\\histograms.py:839: RuntimeWarning: invalid value encountered in greater_equal\n",
      "  keep = (tmp_a >= first_edge)\n",
      "C:\\Users\\tsako0503\\Anaconda3\\lib\\site-packages\\numpy\\lib\\histograms.py:840: RuntimeWarning: invalid value encountered in less_equal\n",
      "  keep &= (tmp_a <= last_edge)\n"
     ]
    },
    {
     "data": {
      "image/png": "[encoded data removed]",
      "text/plain": [
       "<Figure size 432x288 with 1 Axes>"
      ]
     },
     "metadata": {
      "needs_background": "light"
     },
     "output_type": "display_data"
    }
   ],
   "source": [
    "## 用平均填補年齡缺值\n",
    "\n",
    "plt.hist(df_last['age'],bins=50)\n",
    "plt.ylabel(\"Counts\",size=20)\n",
    "plt.xlabel(\"Age\",size=20)\n",
    "print(df_last['age'].mean())\n",
    "print(df_last['age'].median())\n",
    "df_last['age']=df_last['age'].fillna(df_last['age'].mean())\n",
    "\n"
   ]
  },
  {
   "cell_type": "code",
   "execution_count": 8,
   "metadata": {},
   "outputs": [
    {
     "name": "stderr",
     "output_type": "stream",
     "text": [
      "C:\\Users\\tsako0503\\Anaconda3\\lib\\site-packages\\ipykernel_launcher.py:6: UserWarning: Boolean Series key will be reindexed to match DataFrame index.\n",
      "  \n",
      "C:\\Users\\tsako0503\\Anaconda3\\lib\\site-packages\\ipykernel_launcher.py:8: UserWarning: Boolean Series key will be reindexed to match DataFrame index.\n",
      "  \n"
     ]
    },
    {
     "data": {
      "text/plain": [
       "yr                    0\n",
       "pid                   0\n",
       "gender                0\n",
       "age                   0\n",
       "g_bmi                 0\n",
       "psick10            5851\n",
       "psick11            5864\n",
       "mdrug07            9193\n",
       "g_ssr             30025\n",
       "drinkornot_98    135271\n",
       "dtype: int64"
      ]
     },
     "execution_count": 8,
     "metadata": {},
     "output_type": "execute_result"
    }
   ],
   "source": [
    "#填補BMI值 (分別依性別不同給予補不同的bmi平均)\n",
    "df_last['gender']=df_last['gender'].astype(str)\n",
    "group_by_sex=df_last.groupby('gender')\n",
    "group_by_sex.mean().loc[:,'g_bmi']\n",
    "\n",
    "man_bmi=df_last[df_last.g_bmi.isna()][df_last.gender=='1'].fillna(group_by_sex.mean().loc[:,'g_bmi'][0])\n",
    "\n",
    "woman_bmi=df_last[df_last.g_bmi.isna()][df_last.gender=='2'].fillna(group_by_sex.mean().loc[:,'g_bmi'][1])\n",
    "df_last[df_last.g_bmi.isna()]=pd.concat([man_bmi, woman_bmi],axis=0)\n",
    "df_last.isna().sum().sort_values()"
   ]
  },
  {
   "cell_type": "code",
   "execution_count": 9,
   "metadata": {
    "scrolled": true
   },
   "outputs": [
    {
     "name": "stdout",
     "output_type": "stream",
     "text": [
      "23.230609376654645\n",
      "22.896469\n"
     ]
    },
    {
     "data": {
      "image/png": "[encoded data removed]",
      "text/plain": [
       "<Figure size 432x288 with 1 Axes>"
      ]
     },
     "metadata": {
      "needs_background": "light"
     },
     "output_type": "display_data"
    }
   ],
   "source": [
    "plt.hist(df_last['g_bmi'],bins=50)\n",
    "plt.ylabel(\"Counts\",size=20)\n",
    "plt.xlabel(\"BMI\",size=20)\n",
    "print(df_last['g_bmi'].mean())\n",
    "print(df_last['g_bmi'].median())\n"
   ]
  },
  {
   "cell_type": "code",
   "execution_count": 10,
   "metadata": {},
   "outputs": [
    {
     "name": "stdout",
     "output_type": "stream",
     "text": [
      "118.7313739023082\n",
      "116.0\n"
     ]
    },
    {
     "data": {
      "image/png": "[encoded data removed]",
      "text/plain": [
       "<Figure size 432x288 with 1 Axes>"
      ]
     },
     "metadata": {
      "needs_background": "light"
     },
     "output_type": "display_data"
    }
   ],
   "source": [
    "##血壓分布\n",
    "plt.hist(df_last['g_ssr'],bins=50)\n",
    "plt.ylabel(\"Counts\",size=20)\n",
    "plt.xlabel('g_ssr',size=20)\n",
    "print(df_last['g_ssr'].mean())\n",
    "print(df_last['g_ssr'].median())\n",
    "#用平均補血壓值\n",
    "df_last['g_ssr']=df_last['g_ssr'].fillna(df_last['g_ssr'].mean())"
   ]
  },
  {
   "cell_type": "markdown",
   "metadata": {},
   "source": [
    "### Drop 'psick11' = nan and convert data type from float to integer"
   ]
  },
  {
   "cell_type": "code",
   "execution_count": 23,
   "metadata": {},
   "outputs": [
    {
     "name": "stdout",
     "output_type": "stream",
     "text": [
      "0.0     605862\n",
      "1.0       3559\n",
      "22.0        54\n",
      "24.0        14\n",
      "Name: psick11, dtype: int64\n"
     ]
    },
    {
     "data": {
      "text/plain": [
       "yr                    0\n",
       "pid                   0\n",
       "psick11               0\n",
       "gender                0\n",
       "age                   0\n",
       "g_ssr                 0\n",
       "g_bmi                 0\n",
       "psick10               0\n",
       "mdrug07            3589\n",
       "drinkornot_98    129409\n",
       "dtype: int64"
      ]
     },
     "execution_count": 23,
     "metadata": {},
     "output_type": "execute_result"
    }
   ],
   "source": [
    "##去除中風欄位為空值\n",
    "df_last=df_last.dropna(axis=0, subset=['psick11'], how='any')\n",
    "df_last.psick11.astype(int)\n",
    "\n",
    "print(df_last.psick11.value_counts())\n",
    "df_last.isna().sum().sort_values()"
   ]
  },
  {
   "cell_type": "markdown",
   "metadata": {},
   "source": [
    "## 篩選年分於1998-2016間資料"
   ]
  },
  {
   "cell_type": "code",
   "execution_count": 24,
   "metadata": {},
   "outputs": [
    {
     "data": {
      "text/plain": [
       "yr                   0\n",
       "pid                  0\n",
       "psick11              0\n",
       "gender               0\n",
       "age                  0\n",
       "g_ssr                0\n",
       "g_bmi                0\n",
       "mdrug07              0\n",
       "psick10              0\n",
       "drinkornot_98    42881\n",
       "dtype: int64"
      ]
     },
     "execution_count": 24,
     "metadata": {},
     "output_type": "execute_result"
    }
   ],
   "source": [
    "df_last_y=df_last[(df_last['yr']<2017)&(df_last['yr']>=1998)]\n",
    "df_last_y.isna().sum().sort_values()"
   ]
  },
  {
   "cell_type": "markdown",
   "metadata": {},
   "source": [
    "## Dataset (5720, 11)\n",
    "\n",
    "* 隨機抽樣2860個健康人與2860中風的人"
   ]
  },
  {
   "cell_type": "code",
   "execution_count": 25,
   "metadata": {
    "scrolled": true
   },
   "outputs": [
    {
     "name": "stdout",
     "output_type": "stream",
     "text": [
      "(5720, 10)\n",
      "yr                 0\n",
      "pid                0\n",
      "psick11            0\n",
      "gender             0\n",
      "age                0\n",
      "g_ssr              0\n",
      "g_bmi              0\n",
      "mdrug07            0\n",
      "psick10            0\n",
      "drinkornot_98    445\n",
      "dtype: int64\n"
     ]
    }
   ],
   "source": [
    "health_people=df_last_y[(df_last_y.psick11==0)].sample(n=2860, axis=0,random_state=1)  # random_state 類似seed的效果可設任一值\n",
    "stroke_people=df_last_y[(df_last_y.psick11==1)]\n",
    "#合併\n",
    "data=pd.concat([health_people, stroke_people],axis=0)\n",
    "print(data.shape)\n",
    "print(data.isna().sum().sort_values())"
   ]
  },
  {
   "cell_type": "markdown",
   "metadata": {},
   "source": [
    "### Categorical missing values"
   ]
  },
  {
   "cell_type": "code",
   "execution_count": 26,
   "metadata": {},
   "outputs": [
    {
     "name": "stdout",
     "output_type": "stream",
     "text": [
      "1.000000     4126\n",
      "3.000000      423\n",
      "2.000000      398\n",
      "4.000000      181\n",
      "5.000000      144\n",
      "22.346545       2\n",
      "24.186417       1\n",
      "Name: drinkornot_98, dtype: int64\n",
      "0    4574\n",
      "1    1146\n",
      "Name: drinkornot_group, dtype: int64\n"
     ]
    }
   ],
   "source": [
    "# drinkornot_98 轉為類別資料(先補空值) 類別1-5: 1-->0(沒有喝酒),2.3.4.5-->1(有喝酒)\n",
    "print(data.drinkornot_98.value_counts())\n",
    "data.drinkornot_98=data.drinkornot_98.fillna(6.0).astype(int)\n",
    "\n",
    "def get_drinkornot_group(x):\n",
    "    if x==1:\n",
    "        return 0\n",
    "    elif 2<=x<=5:\n",
    "        return 1\n",
    "    else:\n",
    "        return 0\n",
    "    \n",
    "data['drinkornot_group']=data['drinkornot_98'].map(get_drinkornot_group)\n",
    "print(data.drinkornot_group.value_counts())\n"
   ]
  },
  {
   "cell_type": "markdown",
   "metadata": {},
   "source": [
    "### Model data (x, y)\n"
   ]
  },
  {
   "cell_type": "code",
   "execution_count": 27,
   "metadata": {},
   "outputs": [
    {
     "name": "stdout",
     "output_type": "stream",
     "text": [
      "yr                  0\n",
      "pid                 0\n",
      "psick11             0\n",
      "gender              0\n",
      "age                 0\n",
      "g_ssr               0\n",
      "g_bmi               0\n",
      "mdrug07             0\n",
      "drinkornot_98       0\n",
      "psick10             0\n",
      "drinkornot_group    0\n",
      "dtype: int64\n",
      "(5720, 11)\n"
     ]
    }
   ],
   "source": [
    "# 排除不要放入的欄位\n",
    "exclude_col=[i for i in data.columns if i not in ['yr','psick11','pid','drinkornot_98']]\n",
    "data.gender=data.gender.astype(int)\n",
    "\n",
    "print(data.isna().sum().sort_values())\n",
    "print(data.shape)\n",
    "#y (中風與否label)\n",
    "y=np.array(data.psick11.astype(int))\n",
    "\n",
    "#X\n",
    "x=np.array(data[exclude_col])\n"
   ]
  },
  {
   "cell_type": "markdown",
   "metadata": {},
   "source": [
    "## Build model"
   ]
  },
  {
   "cell_type": "code",
   "execution_count": 31,
   "metadata": {},
   "outputs": [],
   "source": [
    "#Importing the auxiliar and preprocessing librarys \n",
    "from sklearn.metrics import accuracy_score, confusion_matrix, classification_report\n",
    "from sklearn.model_selection import train_test_split, KFold, cross_validate, cross_val_score\n",
    "from sklearn.preprocessing import LabelEncoder, StandardScaler\n",
    "from sklearn.pipeline import Pipeline\n",
    "from sklearn.feature_selection import SelectFromModel\n"
   ]
  },
  {
   "cell_type": "code",
   "execution_count": 32,
   "metadata": {},
   "outputs": [],
   "source": [
    "# Model\n",
    "from sklearn.cluster import KMeans\n",
    "from sklearn.decomposition import PCA\n",
    "from sklearn.linear_model import RidgeClassifier, SGDClassifier, LogisticRegression\n",
    "from sklearn.svm import SVC, LinearSVC\n",
    "from sklearn.neighbors import KNeighborsClassifier\n",
    "from sklearn.tree import DecisionTreeClassifier\n",
    "from sklearn.naive_bayes import MultinomialNB,GaussianNB\n",
    "from sklearn.ensemble import RandomForestClassifier, GradientBoostingClassifier\\\n",
    ", ExtraTreesClassifier, BaggingClassifier, VotingClassifier, RandomTreesEmbedding"
   ]
  },
  {
   "cell_type": "code",
   "execution_count": 33,
   "metadata": {},
   "outputs": [],
   "source": [
    "## 切割資料\n",
    "X_train, X_test, y_train, y_test = train_test_split(x, y, test_size=0.2, random_state=10)"
   ]
  },
  {
   "cell_type": "code",
   "execution_count": 34,
   "metadata": {
    "scrolled": true
   },
   "outputs": [
    {
     "data": {
      "text/plain": [
       "[('GaussianNB',\n",
       "  Pipeline(memory=None,\n",
       "           steps=[('Scaler',\n",
       "                   StandardScaler(copy=True, with_mean=True, with_std=True)),\n",
       "                  ('GaussianNB', GaussianNB(priors=None, var_smoothing=1e-09))],\n",
       "           verbose=False)),\n",
       " ('LogReg',\n",
       "  Pipeline(memory=None,\n",
       "           steps=[('Scaler',\n",
       "                   StandardScaler(copy=True, with_mean=True, with_std=True)),\n",
       "                  ('LogReg',\n",
       "                   LogisticRegression(C=1.0, class_weight=None, dual=False,\n",
       "                                      fit_intercept=True, intercept_scaling=1,\n",
       "                                      l1_ratio=None, max_iter=100,\n",
       "                                      multi_class='auto', n_jobs=None,\n",
       "                                      penalty='l2', random_state=5,\n",
       "                                      solver='lbfgs', tol=0.0001, verbose=0,\n",
       "                                      warm_start=False))],\n",
       "           verbose=False)),\n",
       " ('DecisionTreeClassifier',\n",
       "  Pipeline(memory=None,\n",
       "           steps=[('Scaler',\n",
       "                   StandardScaler(copy=True, with_mean=True, with_std=True)),\n",
       "                  ('DecisionTrees',\n",
       "                   DecisionTreeClassifier(ccp_alpha=0.0, class_weight=None,\n",
       "                                          criterion='gini', max_depth=None,\n",
       "                                          max_features=None, max_leaf_nodes=None,\n",
       "                                          min_impurity_decrease=0.0,\n",
       "                                          min_impurity_split=None,\n",
       "                                          min_samples_leaf=1, min_samples_split=2,\n",
       "                                          min_weight_fraction_leaf=0.0,\n",
       "                                          presort='deprecated', random_state=5,\n",
       "                                          splitter='best'))],\n",
       "           verbose=False)),\n",
       " ('RandomForestClassifier',\n",
       "  Pipeline(memory=None,\n",
       "           steps=[('Scaler',\n",
       "                   StandardScaler(copy=True, with_mean=True, with_std=True)),\n",
       "                  ('RandomForest',\n",
       "                   RandomForestClassifier(bootstrap=True, ccp_alpha=0.0,\n",
       "                                          class_weight=None, criterion='gini',\n",
       "                                          max_depth=None, max_features='auto',\n",
       "                                          max_leaf_nodes=None, max_samples=None,\n",
       "                                          min_impurity_decrease=0.0,\n",
       "                                          min_impurity_split=None,\n",
       "                                          min_samples_leaf=1, min_samples_split=2,\n",
       "                                          min_weight_fraction_leaf=0.0,\n",
       "                                          n_estimators=100, n_jobs=None,\n",
       "                                          oob_score=False, random_state=5,\n",
       "                                          verbose=0, warm_start=False))],\n",
       "           verbose=False)),\n",
       " ('ExtraTreesClassifier',\n",
       "  Pipeline(memory=None,\n",
       "           steps=[('Scaler',\n",
       "                   StandardScaler(copy=True, with_mean=True, with_std=True)),\n",
       "                  ('ExtraTrees',\n",
       "                   ExtraTreesClassifier(bootstrap=False, ccp_alpha=0.0,\n",
       "                                        class_weight=None, criterion='gini',\n",
       "                                        max_depth=None, max_features='auto',\n",
       "                                        max_leaf_nodes=None, max_samples=None,\n",
       "                                        min_impurity_decrease=0.0,\n",
       "                                        min_impurity_split=None,\n",
       "                                        min_samples_leaf=1, min_samples_split=2,\n",
       "                                        min_weight_fraction_leaf=0.0,\n",
       "                                        n_estimators=100, n_jobs=None,\n",
       "                                        oob_score=False, random_state=5,\n",
       "                                        verbose=0, warm_start=False))],\n",
       "           verbose=False))]"
      ]
     },
     "execution_count": 34,
     "metadata": {},
     "output_type": "execute_result"
    }
   ],
   "source": [
    "clfs = []\n",
    "seed = 3\n",
    "\n",
    "clfs.append((\"GaussianNB\", \n",
    "             Pipeline([(\"Scaler\", StandardScaler()),\n",
    "                       (\"GaussianNB\", GaussianNB())])))\n",
    "clfs.append((\"LogReg\", \n",
    "             Pipeline([(\"Scaler\", StandardScaler()),\n",
    "                       (\"LogReg\", LogisticRegression(C=1.0,random_state=5))]))) #　Ｃ=>0 浮點數代表正規化的效力，越大越沒有標準化\n",
    "\n",
    "clfs.append((\"DecisionTreeClassifier\", \n",
    "             Pipeline([(\"Scaler\", StandardScaler()),\n",
    "                       (\"DecisionTrees\", DecisionTreeClassifier(random_state=5))]))) \n",
    "\n",
    "clfs.append((\"RandomForestClassifier\", \n",
    "             Pipeline([(\"Scaler\", StandardScaler()),\n",
    "                       (\"RandomForest\", RandomForestClassifier(random_state=5))]))) \n",
    "clfs.append((\"ExtraTreesClassifier\",\n",
    "             Pipeline([(\"Scaler\", StandardScaler()),\n",
    "                      (\"ExtraTrees\", ExtraTreesClassifier(random_state=5))])))\n",
    "clfs"
   ]
  },
  {
   "cell_type": "code",
   "execution_count": 35,
   "metadata": {},
   "outputs": [
    {
     "name": "stderr",
     "output_type": "stream",
     "text": [
      "C:\\Users\\tsako0503\\Anaconda3\\lib\\site-packages\\sklearn\\externals\\joblib\\__init__.py:15: FutureWarning: sklearn.externals.joblib is deprecated in 0.21 and will be removed in 0.23. Please import this functionality directly from joblib, which can be installed with: pip install joblib. If this warning is raised when loading pickled models, you may need to re-serialize those models with scikit-learn 0.21+.\n",
      "  warnings.warn(msg, category=FutureWarning)\n"
     ]
    }
   ],
   "source": [
    "scoring = 'accuracy'\n",
    "n_folds = 10\n",
    "\n",
    "results, names, modelname  = [], [] ,['model-name'] \n",
    "\n",
    "from sklearn.metrics import accuracy_score\n",
    "from sklearn.metrics import f1_score\n",
    "from sklearn.metrics import precision_score\n",
    "from sklearn.metrics import recall_score\n",
    "from sklearn.externals import joblib #存取model\n",
    "from sklearn.metrics import roc_curve, auc\n",
    "from sklearn.metrics import roc_auc_score\n",
    "\n",
    "msgL, accuracyL, f1L, precisionL, recallL  = [], ['accuracy_score'], ['f1_score'], ['precision_score'], ['recall_score']\n"
   ]
  },
  {
   "cell_type": "markdown",
   "metadata": {},
   "source": [
    "### 跑類別str 會出錯"
   ]
  },
  {
   "cell_type": "code",
   "execution_count": 24,
   "metadata": {
    "scrolled": true
   },
   "outputs": [
    {
     "name": "stderr",
     "output_type": "stream",
     "text": [
      "C:\\Users\\tsako0503\\Anaconda3\\lib\\site-packages\\sklearn\\model_selection\\_split.py:296: FutureWarning: Setting a random_state has no effect since shuffle is False. This will raise an error in 0.24. You should leave random_state to its default (None), or set shuffle=True.\n",
      "  FutureWarning\n"
     ]
    },
    {
     "name": "stdout",
     "output_type": "stream",
     "text": [
      "GaussianNB: 0.762014 (+/- 0.014307)\n",
      "GaussianNBok\n"
     ]
    },
    {
     "data": {
      "image/png": "[encoded data removed]",
      "text/plain": [
       "<Figure size 432x288 with 1 Axes>"
      ]
     },
     "metadata": {
      "needs_background": "light"
     },
     "output_type": "display_data"
    },
    {
     "name": "stderr",
     "output_type": "stream",
     "text": [
      "C:\\Users\\tsako0503\\Anaconda3\\lib\\site-packages\\sklearn\\model_selection\\_split.py:296: FutureWarning: Setting a random_state has no effect since shuffle is False. This will raise an error in 0.24. You should leave random_state to its default (None), or set shuffle=True.\n",
      "  FutureWarning\n"
     ]
    },
    {
     "name": "stdout",
     "output_type": "stream",
     "text": [
      "LogReg: 0.811844 (+/- 0.018377)\n",
      "LogRegok\n"
     ]
    },
    {
     "data": {
      "image/png": "[encoded data removed]",
      "text/plain": [
       "<Figure size 432x288 with 1 Axes>"
      ]
     },
     "metadata": {
      "needs_background": "light"
     },
     "output_type": "display_data"
    },
    {
     "name": "stderr",
     "output_type": "stream",
     "text": [
      "C:\\Users\\tsako0503\\Anaconda3\\lib\\site-packages\\sklearn\\model_selection\\_split.py:296: FutureWarning: Setting a random_state has no effect since shuffle is False. This will raise an error in 0.24. You should leave random_state to its default (None), or set shuffle=True.\n",
      "  FutureWarning\n"
     ]
    },
    {
     "name": "stdout",
     "output_type": "stream",
     "text": [
      "DecisionTreeClassifier: 0.714601 (+/- 0.012453)\n",
      "DecisionTreeClassifierok\n"
     ]
    },
    {
     "data": {
      "image/png": "[encoded data removed]",
      "text/plain": [
       "<Figure size 432x288 with 1 Axes>"
      ]
     },
     "metadata": {
      "needs_background": "light"
     },
     "output_type": "display_data"
    },
    {
     "name": "stderr",
     "output_type": "stream",
     "text": [
      "C:\\Users\\tsako0503\\Anaconda3\\lib\\site-packages\\sklearn\\model_selection\\_split.py:296: FutureWarning: Setting a random_state has no effect since shuffle is False. This will raise an error in 0.24. You should leave random_state to its default (None), or set shuffle=True.\n",
      "  FutureWarning\n"
     ]
    },
    {
     "name": "stdout",
     "output_type": "stream",
     "text": [
      "RandomForestClassifier: 0.796548 (+/- 0.010727)\n",
      "RandomForestClassifierok\n"
     ]
    },
    {
     "data": {
      "image/png": "[encoded data removed]",
      "text/plain": [
       "<Figure size 432x288 with 1 Axes>"
      ]
     },
     "metadata": {
      "needs_background": "light"
     },
     "output_type": "display_data"
    },
    {
     "name": "stderr",
     "output_type": "stream",
     "text": [
      "C:\\Users\\tsako0503\\Anaconda3\\lib\\site-packages\\sklearn\\model_selection\\_split.py:296: FutureWarning: Setting a random_state has no effect since shuffle is False. This will raise an error in 0.24. You should leave random_state to its default (None), or set shuffle=True.\n",
      "  FutureWarning\n"
     ]
    },
    {
     "name": "stdout",
     "output_type": "stream",
     "text": [
      "ExtraTreesClassifier: 0.794799 (+/- 0.005494)\n",
      "ExtraTreesClassifierok\n"
     ]
    },
    {
     "data": {
      "image/png": "[encoded data removed]",
      "text/plain": [
       "<Figure size 432x288 with 1 Axes>"
      ]
     },
     "metadata": {
      "needs_background": "light"
     },
     "output_type": "display_data"
    },
    {
     "name": "stdout",
     "output_type": "stream",
     "text": [
      "                        Accuracy  f1 score Precision    Recall\n",
      "GaussianNB              0.755245  0.715447  0.869136  0.607945\n",
      "LogReg                  0.811189  0.815068  0.808149  0.822107\n",
      "DecisionTreeClassifier  0.729021  0.733677  0.729915  0.737478\n",
      "RandomForestClassifier  0.788462  0.793515  0.784148  0.803109\n",
      "ExtraTreesClassifier    0.780594  0.783434  0.782759  0.784111\n"
     ]
    }
   ],
   "source": [
    "for name, model  in clfs:\n",
    "    kfold = KFold(n_splits=n_folds, random_state=seed)\n",
    "    cv_results = cross_val_score(model, X_train, y_train, cv= 5, scoring=scoring, n_jobs=-1)\n",
    "    modelp = model.fit(X_train, y_train)\n",
    "    if name == 'GaussianNB':\n",
    "        #GaussianNBimportances = model.named_steps['GaussianNB'].coef_\n",
    "        y_score=modelp.predict_proba(X_test)[:,1]\n",
    "        clr='Red'\n",
    "    if name == 'LogReg':\n",
    "        LogRegimportances = model.named_steps['LogReg'].coef_\n",
    "        y_score=modelp.decision_function(X_test)\n",
    "        clr='Green'\n",
    "        #joblib.dump(modelp,'logistic_F2.pkl')\n",
    "        \n",
    "    if name == 'DecisionTreeClassifier':\n",
    "        DecisionTreesimportances = model.named_steps['DecisionTrees'].feature_importances_\n",
    "        y_score=modelp.predict_proba(X_test)[:,1]\n",
    "        \n",
    "    if name == 'RandomForestClassifier':\n",
    "        RandomForestimportances = model.named_steps['RandomForest'].feature_importances_\n",
    "        y_score=modelp.predict_proba(X_test)[:,1]\n",
    "        clr='darkorange'\n",
    "    if name == 'ExtraTreesClassifier':\n",
    "        ExtraTreesimportances = model.named_steps['ExtraTrees'].feature_importances_\n",
    "        y_score=modelp.predict_proba(X_test)[:,1]\n",
    "\n",
    "    y_preds=modelp.predict(X_test)\n",
    "    accuracyL.append(accuracy_score(y_test, y_preds))\n",
    "    \n",
    "    f1L.append(f1_score(y_test, y_preds, average='binary'))\n",
    "    precisionL.append(precision_score(y_test, y_preds, average='binary'))\n",
    "    recallL.append(recall_score(y_test, y_preds, average='binary'))\n",
    "    names.append(name)\n",
    "    modelname.append(name)\n",
    "    results.append(cv_results)    \n",
    "    msg = \"%s: %f (+/- %f)\" % (name, cv_results.mean(),  cv_results.std())\n",
    "    msgL.append(msg)\n",
    "    print(msg)\n",
    "    print(name+'ok')\n",
    "\n",
    "    ##############################################################################\n",
    "    fpr, tpr, _ = roc_curve(y_test.ravel(), y_score.ravel())\n",
    "    roc_auc = auc(fpr, tpr)\n",
    "    ##############################################################################\n",
    "    # Plot of a ROC curve for a specific class\n",
    "    plt.figure()\n",
    "    lw = 2\n",
    "    plt.plot(fpr, tpr, color=clr\n",
    "             ,lw=lw,label=name+'ROC curve (area = %0.2f)' % roc_auc)\n",
    "    plt.plot([0, 1], [0, 1], color='navy', lw=lw, linestyle='--')\n",
    "    plt.xlim([0.0, 1.0])\n",
    "    plt.ylim([0.0, 1.05])\n",
    "    plt.xlabel('False Positive Rate')\n",
    "    plt.ylabel('True Positive Rate')\n",
    "    plt.title(name+' ROC')\n",
    "    plt.legend(loc=\"lower right\")\n",
    "    plt.show()\n",
    "\n",
    "Dict_data={'Accuracy':accuracyL, 'f1 score':f1L, 'Precision':precisionL,'Recall':recallL }\n",
    "table=pd.DataFrame(Dict_data).drop(index=0)\n",
    "table.index=names\n",
    "print(table)\n",
    "\n"
   ]
  },
  {
   "cell_type": "code",
   "execution_count": 25,
   "metadata": {},
   "outputs": [
    {
     "data": {
      "image/png": "[encoded data removed]",
      "text/plain": [
       "<Figure size 1080x360 with 1 Axes>"
      ]
     },
     "metadata": {
      "needs_background": "light"
     },
     "output_type": "display_data"
    }
   ],
   "source": [
    "# boxplot algorithm comparison\n",
    "fig = plt.figure(figsize=(15,5))\n",
    "fig.suptitle('Classifier Algorithm Comparison', fontsize=22)\n",
    "ax = fig.add_subplot(111)\n",
    "sns.boxplot(x=names, y=results)\n",
    "ax.set_xticklabels(names)\n",
    "ax.set_xlabel(\"Algorithmn\", fontsize=20)\n",
    "ax.set_ylabel(\"Accuracy of Models\", fontsize=18)\n",
    "ax.set_xticklabels(ax.get_xticklabels(),rotation=45)\n",
    "plt.show()\n"
   ]
  },
  {
   "cell_type": "code",
   "execution_count": 25,
   "metadata": {},
   "outputs": [],
   "source": [
    "importancesname=['feature','LogReg','DecisionTrees','RandomForest','ExtraTrees']\n",
    "importances=[importancesname,LogRegimportances.flatten(),DecisionTreesimportances,\n",
    " RandomForestimportances,ExtraTreesimportances]\n",
    "report=[modelname,accuracyL, f1L, precisionL, recallL] \n",
    "import csv\n",
    "with open('report.csv', 'w', newline='') as csvfile:\n",
    "    writer= csv.writer(csvfile)\n",
    "    writer.writerows(report)\n",
    "with open('importances-c.csv', 'w', newline='') as csvfile:\n",
    "    writer= csv.writer(csvfile)\n",
    "    writer.writerows(importances)"
   ]
  },
  {
   "cell_type": "code",
   "execution_count": 13,
   "metadata": {},
   "outputs": [],
   "source": [
    "## 匯出資料檔\n",
    "import csv\n",
    "data_name='G:/我的雲端硬碟/轉譯醫學/Data/MJ/Model_data.csv'\n",
    "data.to_csv(data_name,index= False)"
   ]
  },
  {
   "cell_type": "code",
   "execution_count": null,
   "metadata": {},
   "outputs": [],
   "source": [
    "##測試資料 (隨機抽樣200個sample)\n",
    "test_health=data[(data.psick11==0)].sample(n=100, axis=0, random_state=5)\n",
    "\n",
    "test_stroke=data[(data.psick11==1)].sample(n=100,axis=0, random_state=6)\n",
    "\n",
    "test_sample=pd.concat([test_health,test_stroke], axis=0)\n",
    "#'drinkornot_98' Drop因為已經合成新的欄位\n",
    "test=np.array(test_sample.drop(['yr','pid','psick11','drinkornot_98'],axis=1))\n",
    "test"
   ]
  },
  {
   "cell_type": "markdown",
   "metadata": {},
   "source": [
    "### 驗證匯出模型 (LogReg)\n",
    "\n",
    "####  joblib (網頁端會被鎖)\n",
    "#### pickle"
   ]
  },
  {
   "cell_type": "code",
   "execution_count": null,
   "metadata": {},
   "outputs": [],
   "source": [
    "#呼叫model\n",
    "logistic_r = joblib.load('logistic_F2.pkl')\n",
    "#預測資料\n",
    "model_pred= logistic_r.predict(test)\n",
    "label_test=np.array(test_sample.psick11)\n",
    "# 測試資料,產生confusion_matrix\n",
    "print(logistic_r)\n",
    "print(model_pred)\n",
    "#print(confusion_matrix(label_test, model_pred))\n",
    "print(pd.crosstab(label_test, model_pred, rownames=['label'], colnames=['predict']))\n",
    "print(f'Accuracy: {accuracy_score(label_test, model_pred)}')"
   ]
  }
 ],
 "metadata": {
  "kernelspec": {
   "display_name": "Python 3",
   "language": "python",
   "name": "python3"
  },
  "language_info": {
   "codemirror_mode": {
    "name": "ipython",
    "version": 3
   },
   "file_extension": ".py",
   "mimetype": "text/x-python",
   "name": "python",
   "nbconvert_exporter": "python",
   "pygments_lexer": "ipython3",
   "version": "3.7.6"
  }
 },
 "nbformat": 4,
 "nbformat_minor": 4
}
