{
 "cells": [
  {
   "cell_type": "code",
   "execution_count": 14,
   "metadata": {},
   "outputs": [],
   "source": [
    "import pandas as pd \n",
    "import matplotlib.pyplot as plt\n",
    "import seaborn as sns\n",
    "import numpy as np\n",
    "import joblib"
   ]
  },
  {
   "cell_type": "code",
   "execution_count": 15,
   "metadata": {},
   "outputs": [],
   "source": [
    "from sklearn.metrics import accuracy_score, confusion_matrix, classification_report\n",
    "from sklearn.model_selection import train_test_split, KFold, cross_validate, cross_val_score\n",
    "from sklearn.preprocessing import LabelEncoder, StandardScaler\n",
    "from sklearn.pipeline import Pipeline\n",
    "from sklearn.feature_selection import SelectFromModel\n",
    "\n",
    "from sklearn.metrics import accuracy_score\n",
    "from sklearn.metrics import f1_score\n",
    "from sklearn.metrics import precision_score\n",
    "from sklearn.metrics import recall_score\n",
    "#from sklearn.externals import joblib #存取model\n",
    "from sklearn.metrics import roc_curve, auc\n",
    "from sklearn.metrics import roc_auc_score"
   ]
  },
  {
   "cell_type": "code",
   "execution_count": 8,
   "metadata": {},
   "outputs": [
    {
     "data": {
      "text/plain": [
       "<bound method NDFrame.head of         yr         pid  psick11  gender   age  g_ssr      g_bmi  mdrug07  \\\n",
       "0     1999  a19k095609        0       2  63.0  148.0  22.863438      0.0   \n",
       "1     2012  a19k530206        0       2  56.0  137.0  23.126909      0.0   \n",
       "2     2008  a19k314940        0       1  38.0  140.0  33.499607      0.0   \n",
       "3     2005  a19k451013        0       1  27.0  108.0  21.290539      0.0   \n",
       "4     2008  a19k048394        0       1  51.0  138.0  26.257479      0.0   \n",
       "...    ...         ...      ...     ...   ...    ...        ...      ...   \n",
       "5715  2016  a19k426143        1       2  73.0  162.0  21.993221      1.0   \n",
       "5716  2016  a19k165002        1       1  62.0  138.0  33.275032      0.0   \n",
       "5717  2016  a19k229242        1       2  33.0  107.0  20.361435      0.0   \n",
       "5718  2016  a19k287542        1       1  78.0  155.0  24.375000      1.0   \n",
       "5719  2016  a19k217578        1       2  26.0  135.0  30.323666      0.0   \n",
       "\n",
       "      drinkornot_98  psick10  drinkornot_group  \n",
       "0                 6      0.0                 2  \n",
       "1                 1      0.0                 0  \n",
       "2                 1      0.0                 0  \n",
       "3                 1      0.0                 0  \n",
       "4                 1      0.0                 0  \n",
       "...             ...      ...               ...  \n",
       "5715              1      0.0                 0  \n",
       "5716              1      0.0                 0  \n",
       "5717              2      0.0                 1  \n",
       "5718              2      0.0                 1  \n",
       "5719              1      0.0                 0  \n",
       "\n",
       "[5720 rows x 11 columns]>"
      ]
     },
     "execution_count": 8,
     "metadata": {},
     "output_type": "execute_result"
    }
   ],
   "source": [
    "file_path='G:/我的雲端硬碟/轉譯醫學/Data/MJ/Model_data.csv'\n",
    "data=pd.read_csv(file_path)\n",
    "data.head"
   ]
  },
  {
   "cell_type": "code",
   "execution_count": 9,
   "metadata": {},
   "outputs": [
    {
     "data": {
      "text/plain": [
       "array([[  1.       ,  24.       , 117.       , ...,   0.       ,\n",
       "          0.       ,   0.       ],\n",
       "       [  2.       ,  52.       , 118.       , ...,   0.       ,\n",
       "          0.       ,   1.       ],\n",
       "       [  2.       ,  66.       , 140.       , ...,   0.       ,\n",
       "          0.       ,   0.       ],\n",
       "       ...,\n",
       "       [  1.       ,  70.       , 149.       , ...,   0.       ,\n",
       "          0.       ,   0.       ],\n",
       "       [  1.       ,  68.       , 118.7313739, ...,   0.       ,\n",
       "          0.       ,   1.       ],\n",
       "       [  1.       ,  61.       , 124.       , ...,   1.       ,\n",
       "          0.       ,   0.       ]])"
      ]
     },
     "execution_count": 9,
     "metadata": {},
     "output_type": "execute_result"
    }
   ],
   "source": [
    "##測試資料 (隨機抽樣200個sample)\n",
    "test_health=data[(data.psick11==0)].sample(n=100, axis=0, random_state=5)\n",
    "\n",
    "test_stroke=data[(data.psick11==1)].sample(n=100,axis=0, random_state=6)\n",
    "\n",
    "test_sample=pd.concat([test_health,test_stroke], axis=0)\n",
    "#'drinkornot_98' Drop因為已經合成新的欄位\n",
    "test=np.array(test_sample.drop(['yr','pid','psick11','drinkornot_98'],axis=1))\n",
    "test"
   ]
  },
  {
   "cell_type": "code",
   "execution_count": 39,
   "metadata": {},
   "outputs": [
    {
     "name": "stdout",
     "output_type": "stream",
     "text": [
      "Pipeline(memory=None,\n",
      "         steps=[('Scaler',\n",
      "                 StandardScaler(copy=True, with_mean=True, with_std=True)),\n",
      "                ('LogReg',\n",
      "                 LogisticRegression(C=1.0, class_weight=None, dual=False,\n",
      "                                    fit_intercept=True, intercept_scaling=1,\n",
      "                                    l1_ratio=None, max_iter=100,\n",
      "                                    multi_class='auto', n_jobs=None,\n",
      "                                    penalty='l2', random_state=5,\n",
      "                                    solver='lbfgs', tol=0.0001, verbose=0,\n",
      "                                    warm_start=False))],\n",
      "         verbose=False)\n",
      "[[0.93155811 0.06844189]\n",
      " [0.67580238 0.32419762]\n",
      " [0.30397202 0.69602798]\n",
      " [0.67791398 0.32208602]\n",
      " [0.60309917 0.39690083]\n",
      " [0.55782129 0.44217871]\n",
      " [0.77644586 0.22355414]\n",
      " [0.66221067 0.33778933]\n",
      " [0.98914367 0.01085633]\n",
      " [0.8550848  0.1449152 ]\n",
      " [0.76526818 0.23473182]\n",
      " [0.55058925 0.44941075]\n",
      " [0.96717209 0.03282791]\n",
      " [0.66770748 0.33229252]\n",
      " [0.29458071 0.70541929]\n",
      " [0.8535396  0.1464604 ]\n",
      " [0.16145675 0.83854325]\n",
      " [0.95556426 0.04443574]\n",
      " [0.98808206 0.01191794]\n",
      " [0.81697909 0.18302091]\n",
      " [0.69514297 0.30485703]\n",
      " [0.80573099 0.19426901]\n",
      " [0.81724248 0.18275752]\n",
      " [0.68863644 0.31136356]\n",
      " [0.93406368 0.06593632]\n",
      " [0.534605   0.465395  ]\n",
      " [0.84532489 0.15467511]\n",
      " [0.67611964 0.32388036]\n",
      " [0.48049421 0.51950579]\n",
      " [0.93482281 0.06517719]\n",
      " [0.97104716 0.02895284]\n",
      " [0.86896945 0.13103055]\n",
      " [0.65102881 0.34897119]\n",
      " [0.1809327  0.8190673 ]\n",
      " [0.83636811 0.16363189]\n",
      " [0.23528269 0.76471731]\n",
      " [0.93473344 0.06526656]\n",
      " [0.78021419 0.21978581]\n",
      " [0.53005476 0.46994524]\n",
      " [0.33848966 0.66151034]\n",
      " [0.33725985 0.66274015]\n",
      " [0.69716449 0.30283551]\n",
      " [0.97317846 0.02682154]\n",
      " [0.76471119 0.23528881]\n",
      " [0.39235867 0.60764133]\n",
      " [0.93348438 0.06651562]\n",
      " [0.53681919 0.46318081]\n",
      " [0.92320553 0.07679447]\n",
      " [0.33360755 0.66639245]\n",
      " [0.90358322 0.09641678]\n",
      " [0.87919467 0.12080533]\n",
      " [0.81666135 0.18333865]\n",
      " [0.56644706 0.43355294]\n",
      " [0.92986657 0.07013343]\n",
      " [0.95303603 0.04696397]\n",
      " [0.88471786 0.11528214]\n",
      " [0.94611722 0.05388278]\n",
      " [0.98350967 0.01649033]\n",
      " [0.46308516 0.53691484]\n",
      " [0.87305537 0.12694463]\n",
      " [0.31051646 0.68948354]\n",
      " [0.96342771 0.03657229]\n",
      " [0.3757819  0.6242181 ]\n",
      " [0.93220417 0.06779583]\n",
      " [0.97024842 0.02975158]\n",
      " [0.92545336 0.07454664]\n",
      " [0.96623104 0.03376896]\n",
      " [0.94845065 0.05154935]\n",
      " [0.8311113  0.1688887 ]\n",
      " [0.84694169 0.15305831]\n",
      " [0.8427205  0.1572795 ]\n",
      " [0.92436956 0.07563044]\n",
      " [0.89813407 0.10186593]\n",
      " [0.36774545 0.63225455]\n",
      " [0.9163248  0.0836752 ]\n",
      " [0.96033882 0.03966118]\n",
      " [0.96544029 0.03455971]\n",
      " [0.94734838 0.05265162]\n",
      " [0.70756978 0.29243022]\n",
      " [0.85561524 0.14438476]\n",
      " [0.9518834  0.0481166 ]\n",
      " [0.77604941 0.22395059]\n",
      " [0.83297587 0.16702413]\n",
      " [0.1589401  0.8410599 ]\n",
      " [0.85954567 0.14045433]\n",
      " [0.56839947 0.43160053]\n",
      " [0.68661907 0.31338093]\n",
      " [0.91636865 0.08363135]\n",
      " [0.89240412 0.10759588]\n",
      " [0.93067596 0.06932404]\n",
      " [0.83530285 0.16469715]\n",
      " [0.96546863 0.03453137]\n",
      " [0.92095905 0.07904095]\n",
      " [0.65873157 0.34126843]\n",
      " [0.80191022 0.19808978]\n",
      " [0.96314736 0.03685264]\n",
      " [0.63268679 0.36731321]\n",
      " [0.98232874 0.01767126]\n",
      " [0.25959676 0.74040324]\n",
      " [0.566515   0.433485  ]\n",
      " [0.15325666 0.84674334]\n",
      " [0.19474586 0.80525414]\n",
      " [0.77356745 0.22643255]\n",
      " [0.46596167 0.53403833]\n",
      " [0.84769332 0.15230668]\n",
      " [0.5095192  0.4904808 ]\n",
      " [0.35272055 0.64727945]\n",
      " [0.17948583 0.82051417]\n",
      " [0.23849958 0.76150042]\n",
      " [0.4387928  0.5612072 ]\n",
      " [0.08649904 0.91350096]\n",
      " [0.94630442 0.05369558]\n",
      " [0.13995964 0.86004036]\n",
      " [0.17029774 0.82970226]\n",
      " [0.51597074 0.48402926]\n",
      " [0.09001885 0.90998115]\n",
      " [0.03154343 0.96845657]\n",
      " [0.86167002 0.13832998]\n",
      " [0.21738533 0.78261467]\n",
      " [0.64067474 0.35932526]\n",
      " [0.13360101 0.86639899]\n",
      " [0.04769226 0.95230774]\n",
      " [0.20927858 0.79072142]\n",
      " [0.08445085 0.91554915]\n",
      " [0.39991898 0.60008102]\n",
      " [0.52039328 0.47960672]\n",
      " [0.07640795 0.92359205]\n",
      " [0.1775324  0.8224676 ]\n",
      " [0.09982798 0.90017202]\n",
      " [0.05106097 0.94893903]\n",
      " [0.12096507 0.87903493]\n",
      " [0.3035125  0.6964875 ]\n",
      " [0.38382574 0.61617426]\n",
      " [0.27058961 0.72941039]\n",
      " [0.22703224 0.77296776]\n",
      " [0.20800269 0.79199731]\n",
      " [0.31262303 0.68737697]\n",
      " [0.05006716 0.94993284]\n",
      " [0.85715195 0.14284805]\n",
      " [0.10152144 0.89847856]\n",
      " [0.18038949 0.81961051]\n",
      " [0.22318996 0.77681004]\n",
      " [0.40245976 0.59754024]\n",
      " [0.08420987 0.91579013]\n",
      " [0.75776174 0.24223826]\n",
      " [0.03525047 0.96474953]\n",
      " [0.02942075 0.97057925]\n",
      " [0.0318034  0.9681966 ]\n",
      " [0.02984547 0.97015453]\n",
      " [0.04002081 0.95997919]\n",
      " [0.82916544 0.17083456]\n",
      " [0.74981565 0.25018435]\n",
      " [0.6177218  0.3822782 ]\n",
      " [0.17944388 0.82055612]\n",
      " [0.89760066 0.10239934]\n",
      " [0.04802715 0.95197285]\n",
      " [0.04012509 0.95987491]\n",
      " [0.13841144 0.86158856]\n",
      " [0.11493253 0.88506747]\n",
      " [0.38057278 0.61942722]\n",
      " [0.35746883 0.64253117]\n",
      " [0.05266153 0.94733847]\n",
      " [0.11679253 0.88320747]\n",
      " [0.41156502 0.58843498]\n",
      " [0.40872458 0.59127542]\n",
      " [0.16326605 0.83673395]\n",
      " [0.12522732 0.87477268]\n",
      " [0.06359117 0.93640883]\n",
      " [0.04176311 0.95823689]\n",
      " [0.29931806 0.70068194]\n",
      " [0.6185444  0.3814556 ]\n",
      " [0.07006117 0.92993883]\n",
      " [0.23751434 0.76248566]\n",
      " [0.60842521 0.39157479]\n",
      " [0.21200749 0.78799251]\n",
      " [0.0935166  0.9064834 ]\n",
      " [0.23509912 0.76490088]\n",
      " [0.63570668 0.36429332]\n",
      " [0.7710186  0.2289814 ]\n",
      " [0.30068828 0.69931172]\n",
      " [0.68161551 0.31838449]\n",
      " [0.26234412 0.73765588]\n",
      " [0.35612317 0.64387683]\n",
      " [0.10968221 0.89031779]\n",
      " [0.49059713 0.50940287]\n",
      " [0.17617028 0.82382972]\n",
      " [0.87226313 0.12773687]\n",
      " [0.18279617 0.81720383]\n",
      " [0.89718696 0.10281304]\n",
      " [0.70480228 0.29519772]\n",
      " [0.41279872 0.58720128]\n",
      " [0.03499278 0.96500722]\n",
      " [0.02774328 0.97225672]\n",
      " [0.08197432 0.91802568]\n",
      " [0.21187127 0.78812873]\n",
      " [0.43522194 0.56477806]\n",
      " [0.02424211 0.97575789]\n",
      " [0.11677599 0.88322401]\n",
      " [0.16754523 0.83245477]\n",
      " [0.08909522 0.91090478]]\n",
      "predict   0   1\n",
      "label          \n",
      "0        84  16\n",
      "1        22  78\n",
      "Accuracy: 0.81\n"
     ]
    }
   ],
   "source": [
    "#呼叫model\n",
    "logistic_r = joblib.load('logistic_F2.pkl')\n",
    "#預測資料\n",
    "#model_pred= logistic_r.predict(test).predict_proba\n",
    "\n",
    "#產生一個機率分布(在每個點可能是0或是1的機率)--->predict_proba()\n",
    "model_pred_p=logistic_r.predict_proba(test) \n",
    "label_test=np.array(test_sample.psick11)\n",
    "# 測試資料,產生confusion_matrix\n",
    "print(logistic_r)\n",
    "print(model_pred_p)\n",
    "print(pd.crosstab(label_test, model_pred, rownames=['label'], colnames=['predict']))\n",
    "print(f'Accuracy: {accuracy_score(label_test, model_pred)}')"
   ]
  },
  {
   "cell_type": "code",
   "execution_count": 45,
   "metadata": {},
   "outputs": [
    {
     "data": {
      "text/plain": [
       "array([0, 0, 0, 0, 0, 0, 0, 0, 0, 0, 0, 0, 0, 0, 0, 0, 0, 0, 0, 0, 0, 0,\n",
       "       0, 0, 0, 0, 0, 0, 0, 0, 0, 0, 0, 0, 0, 0, 0, 0, 0, 0, 0, 0, 0, 0,\n",
       "       0, 0, 0, 0, 0, 0, 0, 0, 0, 0, 0, 0, 0, 0, 0, 0, 0, 0, 0, 0, 0, 0,\n",
       "       0, 0, 0, 0, 0, 0, 0, 0, 0, 0, 0, 0, 0, 0, 0, 0, 0, 0, 0, 0, 0, 0,\n",
       "       0, 0, 0, 0, 0, 0, 0, 0, 0, 0, 0, 0, 1, 1, 1, 1, 1, 1, 1, 1, 1, 1,\n",
       "       1, 1, 1, 1, 1, 1, 1, 1, 1, 1, 1, 1, 1, 1, 1, 1, 1, 1, 1, 1, 1, 1,\n",
       "       1, 1, 1, 1, 1, 1, 1, 1, 1, 1, 1, 1, 1, 1, 1, 1, 1, 1, 1, 1, 1, 1,\n",
       "       1, 1, 1, 1, 1, 1, 1, 1, 1, 1, 1, 1, 1, 1, 1, 1, 1, 1, 1, 1, 1, 1,\n",
       "       1, 1, 1, 1, 1, 1, 1, 1, 1, 1, 1, 1, 1, 1, 1, 1, 1, 1, 1, 1, 1, 1,\n",
       "       1, 1], dtype=int64)"
      ]
     },
     "execution_count": 45,
     "metadata": {},
     "output_type": "execute_result"
    }
   ],
   "source": [
    "\n",
    "model_pred_p[:,0]\n",
    "label_test"
   ]
  },
  {
   "cell_type": "code",
   "execution_count": 46,
   "metadata": {},
   "outputs": [],
   "source": [
    "#pd.crosstab(label_test, model_pred_p[1,:], rownames=['label'], colnames=['predict'])"
   ]
  },
  {
   "cell_type": "code",
   "execution_count": 54,
   "metadata": {},
   "outputs": [
    {
     "name": "stdout",
     "output_type": "stream",
     "text": [
      "[[ 0  5]\n",
      " [20  5]]\n"
     ]
    },
    {
     "data": {
      "text/plain": [
       "array([0.1, 0.2, 0.3, 0.4, 0.5, 0.6, 0.7, 0.8, 0.9])"
      ]
     },
     "execution_count": 54,
     "metadata": {},
     "output_type": "execute_result"
    }
   ],
   "source": [
    "#######$500 * FN(C) + $0 * TN(C) + $100 * FP(C) + $100 * TP(C)\n",
    "COST_OF_ERRORS = np.array([[0, 5], [20, 5]])\n",
    "    \n",
    "cutoffs = np.arange(0.1, 1, 0.1)\n",
    "   \n",
    "print(COST_OF_ERRORS)\n",
    "\n",
    "cutoffs"
   ]
  },
  {
   "cell_type": "code",
   "execution_count": 55,
   "metadata": {},
   "outputs": [
    {
     "name": "stdout",
     "output_type": "stream",
     "text": [
      "predictions   0   1\n",
      "actual             \n",
      "0            35  65\n",
      "1             1  99\n",
      "predictions   0   1\n",
      "actual             \n",
      "0            57  43\n",
      "1             8  92\n",
      "predictions   0   1\n",
      "actual             \n",
      "0            63  37\n",
      "1            13  87\n",
      "predictions   0   1\n",
      "actual             \n",
      "0            76  24\n",
      "1            19  81\n",
      "predictions   0   1\n",
      "actual             \n",
      "0            84  16\n",
      "1            22  78\n",
      "predictions   0   1\n",
      "actual             \n",
      "0            86  14\n",
      "1            30  70\n",
      "predictions   0   1\n",
      "actual             \n",
      "0            94   6\n",
      "1            39  61\n",
      "predictions   0   1\n",
      "actual             \n",
      "0            97   3\n",
      "1            52  48\n",
      "predictions    0   1\n",
      "actual              \n",
      "0            100   0\n",
      "1             73  27\n"
     ]
    }
   ],
   "source": [
    "costs = []\n",
    "\n",
    "for c in cutoffs:\n",
    "    #np.where 篩選機率大於c的就歸為1,小於c就歸為0\n",
    "    conf_matrix = pd.crosstab(label_test, \n",
    "                                  np.where(model_pred_p[:,1] > c, 1, 0), rownames=['actual'], colnames=['predictions'])\n",
    "    print(conf_matrix) #印出10個crosstable (根據不同的cutoffs)\n",
    "    #conf_matrix.iat[0,0]-=1\n",
    "    #conf_matrix.iat[1,1]-=1\n",
    "    conf_matrix_normalized = conf_matrix/np.sum(np.sum(conf_matrix))\n",
    "    cost = (COST_OF_ERRORS * conf_matrix_normalized).values.sum()\n",
    "    costs.append(cost)\n",
    "    "
   ]
  },
  {
   "cell_type": "code",
   "execution_count": 56,
   "metadata": {},
   "outputs": [
    {
     "data": {
      "image/png": "[encoded data removed]",
      "text/plain": [
       "<Figure size 432x288 with 1 Axes>"
      ]
     },
     "metadata": {
      "needs_background": "light"
     },
     "output_type": "display_data"
    }
   ],
   "source": [
    "costs = np.array(costs)\n",
    "plt.plot(cutoffs, costs)\n",
    "plt.show()"
   ]
  },
  {
   "cell_type": "code",
   "execution_count": 57,
   "metadata": {
    "scrolled": true
   },
   "outputs": [
    {
     "data": {
      "text/html": [
       "<div>\n",
       "<style scoped>\n",
       "    .dataframe tbody tr th:only-of-type {\n",
       "        vertical-align: middle;\n",
       "    }\n",
       "\n",
       "    .dataframe tbody tr th {\n",
       "        vertical-align: top;\n",
       "    }\n",
       "\n",
       "    .dataframe thead th {\n",
       "        text-align: right;\n",
       "    }\n",
       "</style>\n",
       "<table border=\"1\" class=\"dataframe\">\n",
       "  <thead>\n",
       "    <tr style=\"text-align: right;\">\n",
       "      <th>predictions</th>\n",
       "      <th>0</th>\n",
       "      <th>1</th>\n",
       "    </tr>\n",
       "    <tr>\n",
       "      <th>actual</th>\n",
       "      <th></th>\n",
       "      <th></th>\n",
       "    </tr>\n",
       "  </thead>\n",
       "  <tbody>\n",
       "    <tr>\n",
       "      <th>0</th>\n",
       "      <td>0.500</td>\n",
       "      <td>0.000</td>\n",
       "    </tr>\n",
       "    <tr>\n",
       "      <th>1</th>\n",
       "      <td>0.365</td>\n",
       "      <td>0.135</td>\n",
       "    </tr>\n",
       "  </tbody>\n",
       "</table>\n",
       "</div>"
      ],
      "text/plain": [
       "predictions      0      1\n",
       "actual                   \n",
       "0            0.500  0.000\n",
       "1            0.365  0.135"
      ]
     },
     "execution_count": 57,
     "metadata": {},
     "output_type": "execute_result"
    }
   ],
   "source": [
    "\n",
    "conf_matrix/np.sum(np.sum(conf_matrix))"
   ]
  }
 ],
 "metadata": {
  "kernelspec": {
   "display_name": "Python 3",
   "language": "python",
   "name": "python3"
  },
  "language_info": {
   "codemirror_mode": {
    "name": "ipython",
    "version": 3
   },
   "file_extension": ".py",
   "mimetype": "text/x-python",
   "name": "python",
   "nbconvert_exporter": "python",
   "pygments_lexer": "ipython3",
   "version": "3.7.6"
  }
 },
 "nbformat": 4,
 "nbformat_minor": 4
}
